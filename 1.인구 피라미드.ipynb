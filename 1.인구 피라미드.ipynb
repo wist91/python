{
 "cells": [
  {
   "cell_type": "markdown",
   "id": "be33cd85",
   "metadata": {},
   "source": [
    "1.인구 피라미드\n",
    "\n",
    "## all people data \n"
   ]
  },
  {
   "cell_type": "code",
   "execution_count": 2,
   "id": "9484dcaa",
   "metadata": {
    "scrolled": true
   },
   "outputs": [
    {
     "name": "stderr",
     "output_type": "stream",
     "text": [
      "C:\\Users\\pc\\anaconda3\\lib\\site-packages\\openpyxl\\styles\\stylesheet.py:226: UserWarning: Workbook contains no default style, apply openpyxl's default\n",
      "  warn(\"Workbook contains no default style, apply openpyxl's default\")\n"
     ]
    },
    {
     "data": {
      "text/html": [
       "<div>\n",
       "<style scoped>\n",
       "    .dataframe tbody tr th:only-of-type {\n",
       "        vertical-align: middle;\n",
       "    }\n",
       "\n",
       "    .dataframe tbody tr th {\n",
       "        vertical-align: top;\n",
       "    }\n",
       "\n",
       "    .dataframe thead th {\n",
       "        text-align: right;\n",
       "    }\n",
       "</style>\n",
       "<table border=\"1\" class=\"dataframe\">\n",
       "  <thead>\n",
       "    <tr style=\"text-align: right;\">\n",
       "      <th></th>\n",
       "      <th>0~9세</th>\n",
       "      <th>10~19세</th>\n",
       "      <th>20~29세</th>\n",
       "      <th>30~39세</th>\n",
       "      <th>40~49세</th>\n",
       "      <th>50~59세</th>\n",
       "      <th>60~69세</th>\n",
       "      <th>70~79세</th>\n",
       "      <th>80~89세</th>\n",
       "      <th>90~99세</th>\n",
       "      <th>100세 이상</th>\n",
       "    </tr>\n",
       "    <tr>\n",
       "      <th>행정기관</th>\n",
       "      <th></th>\n",
       "      <th></th>\n",
       "      <th></th>\n",
       "      <th></th>\n",
       "      <th></th>\n",
       "      <th></th>\n",
       "      <th></th>\n",
       "      <th></th>\n",
       "      <th></th>\n",
       "      <th></th>\n",
       "      <th></th>\n",
       "    </tr>\n",
       "  </thead>\n",
       "  <tbody>\n",
       "    <tr>\n",
       "      <th>전국</th>\n",
       "      <td>3,532,642</td>\n",
       "      <td>4,703,196</td>\n",
       "      <td>6,417,181</td>\n",
       "      <td>6,615,511</td>\n",
       "      <td>8,073,117</td>\n",
       "      <td>8,612,064</td>\n",
       "      <td>7,403,539</td>\n",
       "      <td>3,825,717</td>\n",
       "      <td>1,970,593</td>\n",
       "      <td>277,745</td>\n",
       "      <td>7,733</td>\n",
       "    </tr>\n",
       "  </tbody>\n",
       "</table>\n",
       "</div>"
      ],
      "text/plain": [
       "           0~9세     10~19세     20~29세     30~39세     40~49세     50~59세  \\\n",
       "행정기관                                                                     \n",
       "전국    3,532,642  4,703,196  6,417,181  6,615,511  8,073,117  8,612,064   \n",
       "\n",
       "         60~69세     70~79세     80~89세   90~99세 100세 이상  \n",
       "행정기관                                                    \n",
       "전국    7,403,539  3,825,717  1,970,593  277,745   7,733  "
      ]
     },
     "execution_count": 2,
     "metadata": {},
     "output_type": "execute_result"
    }
   ],
   "source": [
    "import pandas as pd\n",
    "df_a = pd.read_excel('People_2.xlsx',skiprows=3,index_col='행정기관',usecols='B,E:O')\n",
    "df_a.head(1)"
   ]
  },
  {
   "cell_type": "code",
   "execution_count": 3,
   "id": "9a7e49bc",
   "metadata": {},
   "outputs": [
    {
     "data": {
      "text/plain": [
       "0~9세       3,532,642\n",
       "10~19세     4,703,196\n",
       "20~29세     6,417,181\n",
       "30~39세     6,615,511\n",
       "40~49세     8,073,117\n",
       "50~59세     8,612,064\n",
       "60~69세     7,403,539\n",
       "70~79세     3,825,717\n",
       "80~89세     1,970,593\n",
       "90~99세       277,745\n",
       "100세 이상        7,733\n",
       "Name: 전국  , dtype: object"
      ]
     },
     "execution_count": 3,
     "metadata": {},
     "output_type": "execute_result"
    }
   ],
   "source": [
    "df_a.iloc[0]"
   ]
  },
  {
   "cell_type": "code",
   "execution_count": 4,
   "id": "cb108b11",
   "metadata": {},
   "outputs": [],
   "source": [
    "df_a.iloc[0] = df_a.iloc[0].str.replace(',','').astype(int)"
   ]
  },
  {
   "cell_type": "code",
   "execution_count": 5,
   "id": "c07f1306",
   "metadata": {},
   "outputs": [
    {
     "data": {
      "text/plain": [
       "0~9세       3532642\n",
       "10~19세     4703196\n",
       "20~29세     6417181\n",
       "30~39세     6615511\n",
       "40~49세     8073117\n",
       "50~59세     8612064\n",
       "60~69세     7403539\n",
       "70~79세     3825717\n",
       "80~89세     1970593\n",
       "90~99세      277745\n",
       "100세 이상       7733\n",
       "Name: 전국  , dtype: object"
      ]
     },
     "execution_count": 5,
     "metadata": {},
     "output_type": "execute_result"
    }
   ],
   "source": [
    "df_a.iloc[0]"
   ]
  },
  {
   "cell_type": "code",
   "execution_count": null,
   "id": "a098b943",
   "metadata": {},
   "outputs": [],
   "source": []
  },
  {
   "cell_type": "markdown",
   "id": "0304fbe3",
   "metadata": {},
   "source": [
    "## man "
   ]
  },
  {
   "cell_type": "code",
   "execution_count": 6,
   "id": "3e72d329",
   "metadata": {},
   "outputs": [
    {
     "name": "stderr",
     "output_type": "stream",
     "text": [
      "C:\\Users\\pc\\anaconda3\\lib\\site-packages\\openpyxl\\styles\\stylesheet.py:226: UserWarning: Workbook contains no default style, apply openpyxl's default\n",
      "  warn(\"Workbook contains no default style, apply openpyxl's default\")\n"
     ]
    },
    {
     "data": {
      "text/html": [
       "<div>\n",
       "<style scoped>\n",
       "    .dataframe tbody tr th:only-of-type {\n",
       "        vertical-align: middle;\n",
       "    }\n",
       "\n",
       "    .dataframe tbody tr th {\n",
       "        vertical-align: top;\n",
       "    }\n",
       "\n",
       "    .dataframe thead th {\n",
       "        text-align: right;\n",
       "    }\n",
       "</style>\n",
       "<table border=\"1\" class=\"dataframe\">\n",
       "  <thead>\n",
       "    <tr style=\"text-align: right;\">\n",
       "      <th></th>\n",
       "      <th>0~9세.1</th>\n",
       "      <th>10~19세.1</th>\n",
       "      <th>20~29세.1</th>\n",
       "      <th>30~39세.1</th>\n",
       "      <th>40~49세.1</th>\n",
       "      <th>50~59세.1</th>\n",
       "      <th>60~69세.1</th>\n",
       "      <th>70~79세.1</th>\n",
       "      <th>80~89세.1</th>\n",
       "      <th>90~99세.1</th>\n",
       "      <th>100세 이상.1</th>\n",
       "    </tr>\n",
       "    <tr>\n",
       "      <th>행정기관</th>\n",
       "      <th></th>\n",
       "      <th></th>\n",
       "      <th></th>\n",
       "      <th></th>\n",
       "      <th></th>\n",
       "      <th></th>\n",
       "      <th></th>\n",
       "      <th></th>\n",
       "      <th></th>\n",
       "      <th></th>\n",
       "      <th></th>\n",
       "    </tr>\n",
       "  </thead>\n",
       "  <tbody>\n",
       "    <tr>\n",
       "      <th>전국</th>\n",
       "      <td>1,810,379</td>\n",
       "      <td>2,423,599</td>\n",
       "      <td>3,361,589</td>\n",
       "      <td>3,428,864</td>\n",
       "      <td>4,098,998</td>\n",
       "      <td>4,353,321</td>\n",
       "      <td>3,635,619</td>\n",
       "      <td>1,746,555</td>\n",
       "      <td>714,247</td>\n",
       "      <td>62,519</td>\n",
       "      <td>1,261</td>\n",
       "    </tr>\n",
       "  </tbody>\n",
       "</table>\n",
       "</div>"
      ],
      "text/plain": [
       "         0~9세.1   10~19세.1   20~29세.1   30~39세.1   40~49세.1   50~59세.1  \\\n",
       "행정기관                                                                     \n",
       "전국    1,810,379  2,423,599  3,361,589  3,428,864  4,098,998  4,353,321   \n",
       "\n",
       "       60~69세.1   70~79세.1 80~89세.1 90~99세.1 100세 이상.1  \n",
       "행정기관                                                    \n",
       "전국    3,635,619  1,746,555  714,247   62,519     1,261  "
      ]
     },
     "execution_count": 6,
     "metadata": {},
     "output_type": "execute_result"
    }
   ],
   "source": [
    "import pandas as pd\n",
    "df_m = pd.read_excel('People_2.xlsx',skiprows=3,index_col='행정기관',usecols='B,R:AB')\n",
    "df_m.head(1)"
   ]
  },
  {
   "cell_type": "code",
   "execution_count": 7,
   "id": "301b4781",
   "metadata": {},
   "outputs": [],
   "source": [
    "df_m.iloc[0] = df_m.iloc[0].str.replace(',','').astype(int)"
   ]
  },
  {
   "cell_type": "code",
   "execution_count": 8,
   "id": "7c405425",
   "metadata": {},
   "outputs": [
    {
     "data": {
      "text/plain": [
       "0~9세.1       1810379\n",
       "10~19세.1     2423599\n",
       "20~29세.1     3361589\n",
       "30~39세.1     3428864\n",
       "40~49세.1     4098998\n",
       "50~59세.1     4353321\n",
       "60~69세.1     3635619\n",
       "70~79세.1     1746555\n",
       "80~89세.1      714247\n",
       "90~99세.1       62519\n",
       "100세 이상.1       1261\n",
       "Name: 전국  , dtype: object"
      ]
     },
     "execution_count": 8,
     "metadata": {},
     "output_type": "execute_result"
    }
   ],
   "source": [
    "df_m.iloc[0]"
   ]
  },
  {
   "cell_type": "markdown",
   "id": "ff5d5e25",
   "metadata": {},
   "source": [
    "## WOMAN"
   ]
  },
  {
   "cell_type": "code",
   "execution_count": 9,
   "id": "15cadd11",
   "metadata": {},
   "outputs": [
    {
     "name": "stderr",
     "output_type": "stream",
     "text": [
      "C:\\Users\\pc\\anaconda3\\lib\\site-packages\\openpyxl\\styles\\stylesheet.py:226: UserWarning: Workbook contains no default style, apply openpyxl's default\n",
      "  warn(\"Workbook contains no default style, apply openpyxl's default\")\n"
     ]
    },
    {
     "data": {
      "text/html": [
       "<div>\n",
       "<style scoped>\n",
       "    .dataframe tbody tr th:only-of-type {\n",
       "        vertical-align: middle;\n",
       "    }\n",
       "\n",
       "    .dataframe tbody tr th {\n",
       "        vertical-align: top;\n",
       "    }\n",
       "\n",
       "    .dataframe thead th {\n",
       "        text-align: right;\n",
       "    }\n",
       "</style>\n",
       "<table border=\"1\" class=\"dataframe\">\n",
       "  <thead>\n",
       "    <tr style=\"text-align: right;\">\n",
       "      <th></th>\n",
       "      <th>0~9세.2</th>\n",
       "      <th>10~19세.2</th>\n",
       "      <th>20~29세.2</th>\n",
       "      <th>30~39세.2</th>\n",
       "      <th>40~49세.2</th>\n",
       "      <th>50~59세.2</th>\n",
       "      <th>60~69세.2</th>\n",
       "      <th>70~79세.2</th>\n",
       "      <th>80~89세.2</th>\n",
       "      <th>90~99세.2</th>\n",
       "      <th>100세 이상.2</th>\n",
       "    </tr>\n",
       "    <tr>\n",
       "      <th>행정기관</th>\n",
       "      <th></th>\n",
       "      <th></th>\n",
       "      <th></th>\n",
       "      <th></th>\n",
       "      <th></th>\n",
       "      <th></th>\n",
       "      <th></th>\n",
       "      <th></th>\n",
       "      <th></th>\n",
       "      <th></th>\n",
       "      <th></th>\n",
       "    </tr>\n",
       "  </thead>\n",
       "  <tbody>\n",
       "    <tr>\n",
       "      <th>전국</th>\n",
       "      <td>1,722,263</td>\n",
       "      <td>2,279,597</td>\n",
       "      <td>3,055,592</td>\n",
       "      <td>3,186,647</td>\n",
       "      <td>3,974,119</td>\n",
       "      <td>4,258,743</td>\n",
       "      <td>3,767,920</td>\n",
       "      <td>2,079,162</td>\n",
       "      <td>1,256,346</td>\n",
       "      <td>215,226</td>\n",
       "      <td>6,472</td>\n",
       "    </tr>\n",
       "  </tbody>\n",
       "</table>\n",
       "</div>"
      ],
      "text/plain": [
       "         0~9세.2   10~19세.2   20~29세.2   30~39세.2   40~49세.2   50~59세.2  \\\n",
       "행정기관                                                                     \n",
       "전국    1,722,263  2,279,597  3,055,592  3,186,647  3,974,119  4,258,743   \n",
       "\n",
       "       60~69세.2   70~79세.2   80~89세.2 90~99세.2 100세 이상.2  \n",
       "행정기관                                                      \n",
       "전국    3,767,920  2,079,162  1,256,346  215,226     6,472  "
      ]
     },
     "execution_count": 9,
     "metadata": {},
     "output_type": "execute_result"
    }
   ],
   "source": [
    "import pandas as pd\n",
    "df_w = pd.read_excel('People_2.xlsx',skiprows=3,index_col='행정기관',usecols='B,AE:AO')\n",
    "df_w.head(1)"
   ]
  },
  {
   "cell_type": "code",
   "execution_count": 10,
   "id": "07f1854d",
   "metadata": {},
   "outputs": [],
   "source": [
    "df_w.iloc[0] = df_w.iloc[0].str.replace(',','').astype(int)"
   ]
  },
  {
   "cell_type": "code",
   "execution_count": 11,
   "id": "792efadc",
   "metadata": {},
   "outputs": [
    {
     "data": {
      "text/plain": [
       "0~9세.2       1722263\n",
       "10~19세.2     2279597\n",
       "20~29세.2     3055592\n",
       "30~39세.2     3186647\n",
       "40~49세.2     3974119\n",
       "50~59세.2     4258743\n",
       "60~69세.2     3767920\n",
       "70~79세.2     2079162\n",
       "80~89세.2     1256346\n",
       "90~99세.2      215226\n",
       "100세 이상.2       6472\n",
       "Name: 전국  , dtype: object"
      ]
     },
     "execution_count": 11,
     "metadata": {},
     "output_type": "execute_result"
    }
   ],
   "source": [
    "df_w.iloc[0]"
   ]
  },
  {
   "cell_type": "code",
   "execution_count": 12,
   "id": "02c681ba",
   "metadata": {},
   "outputs": [],
   "source": [
    "import matplotlib.pyplot as plt\n",
    "import matplotlib\n",
    "matplotlib.rcParams['font.family'] = 'Malgun Gothic'\n",
    "matplotlib.rcParams['font.size'] = 15\n",
    "matplotlib.rcParams['axes.unicode_minus'] = False"
   ]
  },
  {
   "cell_type": "markdown",
   "id": "5b8e62c9",
   "metadata": {},
   "source": [
    "# Graphs \n",
    " ten thousands\n"
   ]
  },
  {
   "cell_type": "code",
   "execution_count": 17,
   "id": "c2b85032",
   "metadata": {},
   "outputs": [
    {
     "data": {
      "text/plain": [
       "<BarContainer object of 11 artists>"
      ]
     },
     "execution_count": 17,
     "metadata": {},
     "output_type": "execute_result"
    },
    {
     "data": {
      "image/png": "[encoded data removed]",
      "text/plain": [
       "<Figure size 432x288 with 1 Axes>"
      ]
     },
     "metadata": {
      "needs_background": "light"
     },
     "output_type": "display_data"
    }
   ],
   "source": [
    "plt.barh(df_a.columns, df_a.iloc[0] // 10000)"
   ]
  },
  {
   "cell_type": "code",
   "execution_count": 18,
   "id": "9bddbdcd",
   "metadata": {},
   "outputs": [
    {
     "data": {
      "text/plain": [
       "<BarContainer object of 11 artists>"
      ]
     },
     "execution_count": 18,
     "metadata": {},
     "output_type": "execute_result"
    },
    {
     "data": {
      "image/png": "[encoded data removed]",
      "text/plain": [
       "<Figure size 432x288 with 1 Axes>"
      ]
     },
     "metadata": {
      "needs_background": "light"
     },
     "output_type": "display_data"
    }
   ],
   "source": [
    "plt.barh(df_m.columns, df_m.iloc[0] //10000)"
   ]
  },
  {
   "cell_type": "code",
   "execution_count": 19,
   "id": "d1038bac",
   "metadata": {},
   "outputs": [
    {
     "data": {
      "text/plain": [
       "<BarContainer object of 11 artists>"
      ]
     },
     "execution_count": 19,
     "metadata": {},
     "output_type": "execute_result"
    },
    {
     "data": {
      "image/png": "[encoded data removed]",
      "text/plain": [
       "<Figure size 432x288 with 1 Axes>"
      ]
     },
     "metadata": {
      "needs_background": "light"
     },
     "output_type": "display_data"
    }
   ],
   "source": [
    "plt.barh(df_w.columns, df_w.iloc[0] //10000)"
   ]
  },
  {
   "cell_type": "code",
   "execution_count": null,
   "id": "1a2c1460",
   "metadata": {},
   "outputs": [],
   "source": []
  },
  {
   "cell_type": "code",
   "execution_count": null,
   "id": "9713b330",
   "metadata": {},
   "outputs": [],
   "source": []
  },
  {
   "cell_type": "code",
   "execution_count": null,
   "id": "e655f863",
   "metadata": {},
   "outputs": [],
   "source": []
  }
 ],
 "metadata": {
  "kernelspec": {
   "display_name": "Python 3 (ipykernel)",
   "language": "python",
   "name": "python3"
  },
  "language_info": {
   "codemirror_mode": {
    "name": "ipython",
    "version": 3
   },
   "file_extension": ".py",
   "mimetype": "text/x-python",
   "name": "python",
   "nbconvert_exporter": "python",
   "pygments_lexer": "ipython3",
   "version": "3.9.12"
  }
 },
 "nbformat": 4,
 "nbformat_minor": 5
}
